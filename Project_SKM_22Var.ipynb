{
 "cells": [
  {
   "cell_type": "markdown",
   "id": "a27b698f",
   "metadata": {},
   "source": [
    "# Задача №22 - Скорость сходимости метода Ньютона; по предмету: Системы Компьютерной Математики \n",
    "\n",
    "## Выполнил: Смирнов Леонид (группа 3821Б1ПР1)\n",
    "\n",
    "### *Постановка задачи:*\n",
    "Применить метод Ньютона ***scipy.optimize.newton*** к решению каждого из уравнений:\n",
    "\n",
    "$$\n",
    "(x - 1)^2 = 0 \\quad и \\quad e^{2x} - 2e^{x} + 1 = 0\n",
    "$$\n",
    "\n",
    "Показать экспериментально (построить графики зависимости ошибки от номера шага), что итерации сходятся линейно, а не квадратично. Попробовать доказать это теоретически."
   ]
  },
  {
   "cell_type": "markdown",
   "id": "83bd9b48",
   "metadata": {},
   "source": [
    "# Решение:\n",
    "## Уравнение 1: $ (x - 1)^2 = 0 $\n",
    " - Уравнение $ (x - 1)^2 = 0 $ имеет решение при **х = 1:**  $ (1 - 1)^2 = 0 $\n",
    " - 1-ая производная функции: $ (x - 1)^2 $ = $ ((x - 1)^2)^{'} $ = $ 2(x - 1) $\n",
    " - 2-ая производная функции: $ (x - 1)^2 $ = $ ((x - 1)^2)^{''} $ = 2\n",
    "\n",
    "## Уравнение 2: $ e^{2x} - 2e^{x} + 1 = 0 $\n",
    " - Уравнение $ e^{2x} - 2e^{x} + 1 = 0 $ имеет решение при **х = 0:**  $ e^{0} - 2e^{0} + 1 = 1 - 2 + 1 = 0 $\n",
    " - 1-ая производная функции: $ e^{2x} - 2e^{x} + 1 $ = $ (e^{2x} - 2e^{x} + 1)^{'} $ = $ 2e^x(e^x - 1) $\n",
    " - 2-ая производная функции: $ e^{2x} - 2e^{x} + 1 $ = $ (e^{2x} - 2e^{x} + 1)^{''} $ = $ 2e^x(2e^x - 1) $"
   ]
  },
  {
   "cell_type": "code",
   "execution_count": 21,
   "id": "d1844d79",
   "metadata": {},
   "outputs": [
    {
     "data": {
      "image/png": "[encoded data removed]",
      "text/plain": [
       "<Figure size 432x288 with 1 Axes>"
      ]
     },
     "metadata": {
      "needs_background": "light"
     },
     "output_type": "display_data"
    }
   ],
   "source": [
    "# Подключение библиотек\n",
    "import math\n",
    "import numpy as numpy                \n",
    "import matplotlib.pyplot as plt   \n",
    "from scipy import optimize\n",
    "%matplotlib inline\n",
    "\n",
    "\n",
    "plt.xlabel('Номер Шага')           # Название оси абсцисс у графика \n",
    "plt.ylabel('Ошибка (Погрешность)') # Название оси ординат у графика\n",
    "\n",
    "\n",
    "# 1 Функция f(x) = (х - 1)^2 \n",
    "def f1(x): \n",
    "    return (x-1)**2 \n",
    "\n",
    "f1x = lambda x: 2*(x-1) # 1-ая производная функции f1\n",
    "f1xx = lambda x: 2      # 2-ая производная функции f1\n",
    "\n",
    "x1=[]                                       # пустой массив значений аргумента х\n",
    "number_of_iterations = numpy.arange(1, 300) # массив количества итераций \n",
    "\n",
    "# Цикл\n",
    "for i in number_of_iterations: \n",
    "    # Использование Метода \"scipy.optimize.newton\"\n",
    "    root = optimize.newton(f1, 2, maxiter=i, disp=0, fprime = f1x, fprime2 = f1xx)\n",
    "    \n",
    "    # Параметры Метода \"scipy.optimize.newton\":\n",
    "    # 1) func = f1 (Функция, которая вызывается)\n",
    "    # 2) X_o = 2 (Начальная оценка \"Нуля\")\n",
    "    # 3) maxiter - максимальное количество итераций\n",
    "    # 4) disp(type of bool) = 0 \n",
    "    # 5) fprime - 1-ая производная функции f1\n",
    "    # 6) fprime2 - 2-ая производная функции f1\n",
    "    \n",
    "    #Корень данного уравнения вида: (х - 1)^2 = 0 равен 1. Следовательно его нужно вычесть для получения погрешности!!!\n",
    "    root = root - 1  \n",
    "    \n",
    "    # Добавление\n",
    "    x1.append(root) \n",
    "    \n",
    "# Возвращаем одномерный массив (start, stop, num of elements)\n",
    "y = numpy.logspace(x1[0], x1[len(x1)-1], num=len(x1))\n",
    "\n",
    "# Построение графика из полученных значений\n",
    "plt.plot(number_of_iterations, y, '.', color = 'red', linewidth = 3)\n",
    "pass\n",
    "\n",
    "\n",
    "\n",
    "#2 Функция f(x) = e^2x - 2e^x + 1 = (e^x - 1)^2\n",
    "def f2(x): \n",
    "    return (math.exp(x)-1)**2\n",
    "\n",
    "f2x = lambda x: 2*math.exp(x) * (math.exp(x) - 1)    # 1-ая производная функции f2\n",
    "f2xx = lambda x: 2*math.exp(x) * (2*math.exp(x) - 1) # 2-ая производная функции f2\n",
    "\n",
    "x2 = []                                    # пустой массив значений аргумента х\n",
    "number_of_iterations = numpy.arange(1,300) # массив количества итераций   \n",
    "\n",
    "# Цикл\n",
    "for i in number_of_iterations: \n",
    "    # Использование Метода \"scipy.optimize.newton\"\n",
    "    root = optimize.newton(f2,1, maxiter=i,disp=0, fprime = f2x, fprime2 = f2xx)\n",
    "    \n",
    "    # Параметры Метода \"scipy.optimize.newton\":\n",
    "    # 1) func = f2 (Функция, которая вызывается)\n",
    "    # 2) X_o = 1 (Начальная оценка \"Нуля\")\n",
    "    # 3) maxiter - максимальное количество итераций\n",
    "    # 4) disp(type of bool) = 0 \n",
    "    # 5) fprime - 1-ая производная функции f2\n",
    "    # 6) fprime2 - 2-ая производная функции f2\n",
    "    \n",
    "    # Корень данного уравнения вида: (e^x - 1)^2 = 0 равен 0. Следовательно его и вычитать не нужно!!!\n",
    "    # Добавление\n",
    "    x2.append(root) \n",
    "    \n",
    "# Возвращаем одномерный массив (start, stop, num of elements)\n",
    "y=numpy.logspace(x2[0],x2[len(x2)-1],num=len(x2))\n",
    "\n",
    "plt.plot(number_of_iterations,y,'.', color = 'green', linewidth = 3)\n",
    "pass"
   ]
  },
  {
   "cell_type": "markdown",
   "id": "262878fd",
   "metadata": {},
   "source": [
    "**Вывод 1:** После применения метода: **\"scipy.optimize.newton\"** к решению каждого из следующих уравнений вида: $ (x - 1)^2 = 0 $ и $ e^{2x} - 2e^{x} + 1 = 0 $ or $ (e^x - 1)^2 = 0 $. \n",
    "При построении графиков (зависимости ошибок(погрешностей) от номера шага) для полученных функций видно, что как для первой функции: $ (x - 1)^2 = 0 $, так и для второй функции: $ (e^x - 1)^2 = 0 $, Скорость Сходимости есть Линейная, то есть итерации сходятся линейно, а не квадратично!"
   ]
  },
  {
   "cell_type": "markdown",
   "id": "e3fa0acf",
   "metadata": {},
   "source": [
    "# Теоритическое Доказательство\n",
    "## Теорема о сходимости Метода Ньютона (Описание Метода):\n",
    "Чтобы численно решить уравнение $f(x) = 0$ методом простой итерации, то его необходимо привести к эквивалентному уравнению: $ x = \\varphi(x) $, где $ \\varphi(x) $ - сжимающее отображение.\n",
    "\n",
    "Для лучшей сходимости метода в точке очередного приближения $ x^{*} $ должно выполняться условие $ \\varphi^{'}(x^{*}) = 0 $;\n",
    "Решение данного уравнения ищут в виде: $ \\varphi(x) = x + \\alpha(x)f(x) $, тогда:\n",
    "\n",
    "$ \\varphi^{'}(x^{*}) = 1 + \\alpha^{'}(x^{*})f(x^{*}) + \\alpha(x^{*})f^{'}(x^{*}) = 0 $\n",
    "\n",
    "В предположении, что точка приближения «достаточно близка» к корню $ x^{-} $ и что заданная функция непрерывна; окончательная формула для $ \\alpha(x) $:\n",
    "\n",
    "$ \\alpha(x) = - \\frac{1}{f^{'}(x)} $\n",
    "\n",
    "C учетом этого функция $ \\varphi(х) $ определяется:\n",
    "$$ \\varphi(x) = x - \\frac{f(x)}{f^{'}(x)} $$\n",
    "где $f(x)$ - исходная функция, а $f^{'}(x)$ - Первая производная этой функции\n",
    "\n",
    "\n",
    "В результате получается функция, которая показывает(определяет) сходимоть метода:"
   ]
  },
  {
   "cell_type": "markdown",
   "id": "30a19863",
   "metadata": {},
   "source": [
    "## Метод Ньютона для первого уравнения: \n",
    "***Функция(1):*** $ f_1(x) = (x - 1)^2 $\n",
    "\n",
    "***Первая Производная Функции(1):*** $ f_1^{'}(x) = ((x-1)^2)^{'} = 2(x - 1) $\n",
    "\n",
    "***Общий вид:***\n",
    "$$ \\varphi(x) = x - \\frac{f(x)}{f^{'}(x)} $$\n",
    "\n",
    "$$ \\varphi_1(x)= x - \\frac{f_1(x)}{f_1^{'}(x)} = x - \\frac{(x - 1)^2}{2(x - 1)} = \\frac{2x(x - 1) - (x - 1)^2}{2(x - 1)} = \n",
    "\\frac{(x - 1)(2x - (x - 1))}{2(x - 1)} = \\frac{(x - 1)}{2}$$"
   ]
  },
  {
   "cell_type": "code",
   "execution_count": 22,
   "id": "d4cb6234",
   "metadata": {},
   "outputs": [
    {
     "data": {
      "image/png": "[encoded data removed]",
      "text/plain": [
       "<Figure size 432x288 with 1 Axes>"
      ]
     },
     "metadata": {
      "needs_background": "light"
     },
     "output_type": "display_data"
    }
   ],
   "source": [
    "# Подключение библиотек\n",
    "import numpy as np \n",
    "import math\n",
    "import matplotlib.pyplot as plt\n",
    "%matplotlib inline\n",
    "\n",
    "y=[]               # Пустой массив значений аргумента y\n",
    "x=np.arange(0,10)  # Массив количества итераций\n",
    "\n",
    "def f(x): \n",
    "    return (x-1)/2 # Функция(1)\n",
    "\n",
    "for x1 in x:\n",
    "    y.append(f(x1))\n",
    "    \n",
    "plt.title(r'$ \\frac{x-1}{2} $') # Заголовок Графика Функции\n",
    "plt.xlabel('X')                 # Название оси абсцисс у графика \n",
    "plt.ylabel('Y')                 # Название оси ординат у графика\n",
    "\n",
    "plt.plot(x,y,'-', color = 'green', linewidth = 5) # График\n",
    "pass"
   ]
  },
  {
   "cell_type": "markdown",
   "id": "2b95f4d3",
   "metadata": {},
   "source": [
    "## Метод Ньютона для второго уравнения:  \n",
    "\n",
    "***Функция(2):*** $ f_2(x) = e^{2x} - 2e^{x} + 1 = (e^x - 1)^2 $\n",
    "\n",
    "***Первая Производная Функции(2):*** $ f_2^{'}(x) = (e^{2x} - 2e^{x} + 1)^{'} = 2e^{2x} - 2e^x = 2e^x(e^x - 1) $\n",
    "\n",
    "***Общий вид:***\n",
    "$$ \\varphi(x) = x - \\frac{f(x)}{f^{'}(x)} $$\n",
    "\n",
    "$$ \\varphi_2(x) = x - \\frac{f_2(x)}{f_2^{'}(x)}= x - \\frac{(e^x - 1)^2}{2e^x(e^x - 1)} = x - \\frac{e^x - 1}{2e^x} $$"
   ]
  },
  {
   "cell_type": "code",
   "execution_count": 23,
   "id": "09c358cf",
   "metadata": {},
   "outputs": [
    {
     "data": {
      "image/png": "[encoded data removed]",
      "text/plain": [
       "<Figure size 432x288 with 1 Axes>"
      ]
     },
     "metadata": {
      "needs_background": "light"
     },
     "output_type": "display_data"
    }
   ],
   "source": [
    "# Подключение библиотек\n",
    "import numpy as np \n",
    "import math\n",
    "import matplotlib.pyplot as plt\n",
    "%matplotlib inline\n",
    "\n",
    "y=[]              # Пустой массив значений аргумента y\n",
    "x=np.arange(0,10) # Массив количества итераций\n",
    "\n",
    "def f(x): \n",
    "    return x - (math.exp(x)-1)/(2*math.exp(x)) # Функция(2)\n",
    "\n",
    "for x1 in x:\n",
    "    y.append(f(x1))\n",
    "    \n",
    "plt.title(r'$ x - \\frac{e^x - 1}{2e^x} $') # Заголовок Графика Функции\n",
    "plt.xlabel('X')                            # Название оси абсцисс у графика \n",
    "plt.ylabel('Y')                            # Название оси ординат у графика \n",
    "\n",
    "plt.plot(x,y,'-', color = 'red', linewidth = 5) # График\n",
    "pass"
   ]
  },
  {
   "cell_type": "markdown",
   "id": "5b58fe90",
   "metadata": {},
   "source": [
    "**Вывод 2:** Входе рассмотрения 2х функций и применения к ним метода Ньютона, После построения полученных результатов наблюдается, что функции являются линейными, что соответственно означает, что у двух исходных функций скорость сходимости - ЛИНЕЙНАЯ!!!"
   ]
  },
  {
   "cell_type": "markdown",
   "id": "8f4dda3a",
   "metadata": {},
   "source": [
    "**Общий Вывод:** В результате 2х проведенных работ: 1 - Эксперементального Доказательства Скорости Сходимости функций при помощи метода: **\"scipy.optimize.newton\"** к решению каждого из следующих уравнений вида: $ (x - 1)^2 = 0 $ и $ e^{2x} - 2e^{x} + 1 = 0 $ or $ (e^x - 1)^2 = 0 $.; 2 - Теоретического Доказательства, основанного на теореме \"О Методе Ньютона\" -> Получается, что Итерации двух данных функций Сходяться ЛИНЕЙНО!"
   ]
  }
 ],
 "metadata": {
  "kernelspec": {
   "display_name": "Python 3 (ipykernel)",
   "language": "python",
   "name": "python3"
  },
  "language_info": {
   "codemirror_mode": {
    "name": "ipython",
    "version": 3
   },
   "file_extension": ".py",
   "mimetype": "text/x-python",
   "name": "python",
   "nbconvert_exporter": "python",
   "pygments_lexer": "ipython3",
   "version": "3.9.7"
  }
 },
 "nbformat": 4,
 "nbformat_minor": 5
}
